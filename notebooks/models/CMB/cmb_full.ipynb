{
 "cells": [
  {
   "cell_type": "code",
   "execution_count": 16,
   "metadata": {},
   "outputs": [],
   "source": [
    "import torch\n",
    "from markov_bridges.models.generative_models.cmb import CMB\n",
    "from markov_bridges.configs.config_classes.generative_models.cmb_config import CMBConfig\n",
    "from markov_bridges.configs.config_classes.data.basics_configs import IndependentMixConfig\n",
    "from markov_bridges.configs.config_classes.trainers.trainer_config import CMBTrainerConfig\n",
    "from markov_bridges.configs.config_classes.pipelines.pipeline_configs import CMBPipelineConfig \n",
    "from markov_bridges.configs.config_classes.networks.mixed_networks_config import MixedDeepMLPConfig"
   ]
  },
  {
   "cell_type": "markdown",
   "metadata": {},
   "source": [
    "# Configuration"
   ]
  },
  {
   "cell_type": "code",
   "execution_count": 7,
   "metadata": {},
   "outputs": [],
   "source": [
    "model_config = CMBConfig(continuous_loss_type=\"drift\")\n",
    "model_config.data = IndependentMixConfig(has_context_discrete=True)\n",
    "model_config.mixed_network = MixedDeepMLPConfig(time_embed_dim=19,\n",
    "                                                num_layers=1,\n",
    "                                                discrete_embed_dim=20)\n",
    "model_config.pipeline = CMBPipelineConfig(number_of_steps=10)\n",
    "model_config.trainer = CMBTrainerConfig(number_of_epochs=20)"
   ]
  },
  {
   "cell_type": "markdown",
   "metadata": {},
   "source": [
    "# Create Model"
   ]
  },
  {
   "cell_type": "code",
   "execution_count": 8,
   "metadata": {},
   "outputs": [
    {
     "name": "stderr",
     "output_type": "stream",
     "text": [
      "c:\\Users\\cesar\\anaconda4\\envs\\rate_matching\\lib\\site-packages\\torch\\nn\\init.py:412: UserWarning: Initializing zero-element tensors is a no-op\n",
      "  warnings.warn(\"Initializing zero-element tensors is a no-op\")\n"
     ]
    }
   ],
   "source": [
    "cmb = CMB(model_config,device=torch.device(\"cpu\"))"
   ]
  },
  {
   "cell_type": "code",
   "execution_count": 20,
   "metadata": {},
   "outputs": [
    {
     "data": {
      "text/plain": [
       "0.0"
      ]
     },
     "execution_count": 20,
     "metadata": {},
     "output_type": "execute_result"
    }
   ],
   "source": [
    "float(False)"
   ]
  },
  {
   "cell_type": "markdown",
   "metadata": {},
   "source": [
    "## Handle Data"
   ]
  },
  {
   "cell_type": "code",
   "execution_count": 9,
   "metadata": {},
   "outputs": [],
   "source": [
    "databatch = cmb.dataloader.get_databatch()"
   ]
  },
  {
   "cell_type": "code",
   "execution_count": 10,
   "metadata": {},
   "outputs": [],
   "source": [
    "databatch_dict = databatch._asdict()"
   ]
  },
  {
   "cell_type": "code",
   "execution_count": 11,
   "metadata": {},
   "outputs": [
    {
     "name": "stdout",
     "output_type": "stream",
     "text": [
      "dict_keys(['source_continuous', 'target_continuous', 'context_discrete', 'time'])\n"
     ]
    }
   ],
   "source": [
    "print(databatch_dict.keys())"
   ]
  },
  {
   "cell_type": "markdown",
   "metadata": {},
   "source": [
    "# Model Bridge\n"
   ]
  },
  {
   "cell_type": "code",
   "execution_count": 12,
   "metadata": {},
   "outputs": [],
   "source": [
    "discrete_sample,continuous_sample = cmb.forward_map.sample_bridge(databatch)"
   ]
  }
 ],
 "metadata": {
  "kernelspec": {
   "display_name": "rate_matching",
   "language": "python",
   "name": "python3"
  },
  "language_info": {
   "codemirror_mode": {
    "name": "ipython",
    "version": 3
   },
   "file_extension": ".py",
   "mimetype": "text/x-python",
   "name": "python",
   "nbconvert_exporter": "python",
   "pygments_lexer": "ipython3",
   "version": "3.10.9"
  }
 },
 "nbformat": 4,
 "nbformat_minor": 2
}
