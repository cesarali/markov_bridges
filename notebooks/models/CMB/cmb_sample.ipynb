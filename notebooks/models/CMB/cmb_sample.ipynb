{
 "cells": [
  {
   "cell_type": "code",
   "execution_count": 1,
   "metadata": {},
   "outputs": [],
   "source": [
    "from markov_bridges.configs.config_classes.generative_models.cmb_config import CMBConfig\n",
    "from markov_bridges.models.networks.temporal.mixed.mixed_networks_utils import load_mixed_network\n",
    "\n",
    "from markov_bridges.data.categorical_samples import IndependentMixDataloader\n",
    "from markov_bridges.configs.config_classes.data.basics_configs import IndependentMixConfig\n",
    "from markov_bridges.models.generative_models.cmb_forward import MixedForwardMap\n",
    "from markov_bridges.models.pipelines.samplers.mixed_tau_diffusion import TauDiffusion\n",
    "\n",
    "import torch"
   ]
  },
  {
   "cell_type": "code",
   "execution_count": 4,
   "metadata": {},
   "outputs": [],
   "source": [
    "model_config = CMBConfig()\n",
    "model_config.data = IndependentMixConfig(has_context_continuous=True)\n",
    "dataloader = IndependentMixDataloader(model_config.data)\n",
    "databatch = dataloader.get_databatch()\n",
    "cfm = MixedForwardMap(model_config,device=torch.device(\"cpu\"),join_context=dataloader.join_context)"
   ]
  },
  {
   "cell_type": "code",
   "execution_count": 8,
   "metadata": {},
   "outputs": [
    {
     "data": {
      "text/plain": [
       "('source_discrete', 'target_discrete', 'context_continuous', 'time')"
      ]
     },
     "execution_count": 8,
     "metadata": {},
     "output_type": "execute_result"
    }
   ],
   "source": [
    "databatch._fields"
   ]
  },
  {
   "cell_type": "code",
   "execution_count": 9,
   "metadata": {},
   "outputs": [],
   "source": [
    "sampler = TauDiffusion(model_config)"
   ]
  },
  {
   "cell_type": "code",
   "execution_count": null,
   "metadata": {},
   "outputs": [],
   "source": [
    "sampler()"
   ]
  }
 ],
 "metadata": {
  "kernelspec": {
   "display_name": "rate_matching",
   "language": "python",
   "name": "python3"
  },
  "language_info": {
   "codemirror_mode": {
    "name": "ipython",
    "version": 3
   },
   "file_extension": ".py",
   "mimetype": "text/x-python",
   "name": "python",
   "nbconvert_exporter": "python",
   "pygments_lexer": "ipython3",
   "version": "3.10.9"
  }
 },
 "nbformat": 4,
 "nbformat_minor": 2
}
