{
 "cells": [
  {
   "cell_type": "code",
   "execution_count": 12,
   "metadata": {},
   "outputs": [],
   "source": [
    "import torch\n",
    "from torch.distributions import Normal,Categorical\n",
    "\n",
    "#configs\n",
    "from markov_bridges.configs.config_classes.data.molecules_configs import QM9Config\n",
    "from markov_bridges.configs.config_classes.generative_models.cmb_config import CMBConfig\n",
    "from markov_bridges.configs.config_classes.networks.mixed_networks_config import MixedEGNN_dynamics_QM9Config\n",
    "\n",
    "#models\n",
    "from markov_bridges.models.generative_models.cmb_lightning import MixedForwardMapL\n",
    "\n",
    "# loaders\n",
    "from markov_bridges.data.dataloaders_utils import get_dataloaders\n",
    "from markov_bridges.models.networks.temporal.mixed.mixed_networks_utils import load_mixed_network\n",
    "from markov_bridges.utils.paralellism import check_model_devices\n",
    "\n",
    "\n",
    "from markov_bridges.utils.equivariant_diffusion import (\n",
    "    assert_mean_zero_with_mask, \n",
    "    remove_mean_with_mask,\n",
    "    check_mask_correct, \n",
    "    sample_center_gravity_zero_gaussian_with_mask,\n",
    "    random_rotation,\n",
    ")\n",
    "\n",
    "from collections import namedtuple"
   ]
  },
  {
   "cell_type": "code",
   "execution_count": 2,
   "metadata": {},
   "outputs": [],
   "source": [
    "config = CMBConfig()\n",
    "config.data = QM9Config(num_pts_train=1000,\n",
    "                        num_pts_test=200,\n",
    "                        num_pts_valid=200)\n",
    "config.mixed_network = MixedEGNN_dynamics_QM9Config(n_layers=1,\n",
    "                                                    conditioning=['H_thermo', 'homo'])"
   ]
  },
  {
   "cell_type": "code",
   "execution_count": 3,
   "metadata": {},
   "outputs": [
    {
     "name": "stdout",
     "output_type": "stream",
     "text": [
      "Conditioning on ['H_thermo', 'homo']\n",
      "Entropy of n_nodes: H[N] -2.475700616836548\n"
     ]
    },
    {
     "name": "stderr",
     "output_type": "stream",
     "text": [
      "c:\\users\\cesar\\desktop\\projects\\diffusivegenerativemodelling\\ourcodes\\markov_bridges\\src\\markov_bridges\\models\\networks\\temporal\\edmg\\helper_distributions.py:83: UserWarning: To copy construct from a tensor, it is recommended to use sourceTensor.clone().detach() or sourceTensor.clone().detach().requires_grad_(True), rather than torch.tensor(sourceTensor).\n",
      "  probs = Categorical(torch.tensor(probs))\n"
     ]
    }
   ],
   "source": [
    "dtype = torch.float32\n",
    "dataloader = get_dataloaders(config)\n",
    "model = MixedForwardMapL(config,dataloader,save=False)\n",
    "databatch = dataloader.get_databatch()\n",
    "\n",
    "x = databatch['positions'].to(dtype)\n",
    "node_mask = databatch['atom_mask'].to(dtype).unsqueeze(2)\n",
    "edge_mask = databatch['edge_mask'].to(dtype)\n",
    "one_hot = databatch['one_hot'].to(dtype)\n",
    "charges = databatch['charges'].to(x.device, dtype)"
   ]
  },
  {
   "cell_type": "code",
   "execution_count": 35,
   "metadata": {},
   "outputs": [],
   "source": [
    "def augment_noise(x,one_hot,node_mask,charges,augment_noise=0.,data_augmentation=False):\n",
    "    \"\"\"\n",
    "    \"\"\"\n",
    "    # add noise \n",
    "    x = remove_mean_with_mask(x, node_mask)\n",
    "    if augment_noise > 0:\n",
    "        # Add noise eps ~ N(0, augment_noise) around points.\n",
    "        eps = sample_center_gravity_zero_gaussian_with_mask(x.size(), x.device, node_mask)\n",
    "        x = x + eps * augment_noise\n",
    "    x = remove_mean_with_mask(x, node_mask)\n",
    "    if data_augmentation:\n",
    "        x = random_rotation(x).detach()\n",
    "\n",
    "    check_mask_correct([x, one_hot, charges], node_mask)\n",
    "    assert_mean_zero_with_mask(x, node_mask)\n",
    "    h = {'categorical': one_hot, 'integer': charges}\n",
    "    return x, h\n",
    "\n",
    "def cmb_source_and_nametuple(x,h,config):\n",
    "    conditioning = config.mixed_network.conditioning\n",
    "    basic_key_strings = \"num_atoms source_discrete source_continuous target_discrete target_continuous\"\n",
    "    condition_key_strings = \" \".join(conditioning)\n",
    "    mask_key_strings = \"atom_mask edge_mask time\"\n",
    "\n",
    "    all_key_strings = basic_key_strings+\" \"+condition_key_strings+\" \"+mask_key_strings\n",
    "    DatabatchNametuple = namedtuple(\"DatabatchClass\", all_key_strings)\n",
    "\n",
    "    target_discrete = torch.argmax(h[\"categorical\"],dim=2)\n",
    "    vocab_size = config.data.vocab_size\n",
    "    data_size = target_discrete.size(0)\n",
    "    discrete_dimensions = target_discrete.size(1)\n",
    "    target_continuous = x.reshape(data_size,-1)\n",
    "    continuous_dimensions = target_continuous.size(1)\n",
    "\n",
    "    #Discrete\n",
    "    uniform_probability = torch.full((vocab_size,),1./vocab_size)\n",
    "    source_discrete = Categorical(uniform_probability).sample((data_size,discrete_dimensions)).to(x.device)\n",
    "\n",
    "    #Continuous\n",
    "    gaussian_probability = Normal(0.,1.)\n",
    "    source_continuous = gaussian_probability.sample((data_size,continuous_dimensions)).to(x.device)\n",
    "\n",
    "    time = torch.rand((data_size,)).to(x.device)\n",
    "\n",
    "    items_ = [databatch[\"num_atoms\"],source_discrete,source_continuous,target_discrete,target_continuous]\n",
    "    for prop in conditioning:\n",
    "        items_.append(databatch[prop])\n",
    "    items_.extend([databatch[\"atom_mask\"],databatch[\"edge_mask\"],time])\n",
    "\n",
    "    databatch_nametuple = DatabatchNametuple(*items_)\n",
    "    return databatch_nametuple"
   ]
  },
  {
   "cell_type": "code",
   "execution_count": 37,
   "metadata": {},
   "outputs": [],
   "source": [
    "x,h = augment_noise(x,one_hot,node_mask,charges)\n",
    "databatch_nametuple = cmb_source_and_nametuple(x,h,config)"
   ]
  }
 ],
 "metadata": {
  "kernelspec": {
   "display_name": "rate_matching",
   "language": "python",
   "name": "python3"
  },
  "language_info": {
   "codemirror_mode": {
    "name": "ipython",
    "version": 3
   },
   "file_extension": ".py",
   "mimetype": "text/x-python",
   "name": "python",
   "nbconvert_exporter": "python",
   "pygments_lexer": "ipython3",
   "version": "3.10.9"
  }
 },
 "nbformat": 4,
 "nbformat_minor": 2
}
