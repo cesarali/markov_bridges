{
 "cells": [
  {
   "cell_type": "code",
   "execution_count": 1,
   "metadata": {},
   "outputs": [],
   "source": [
    "import torch\n",
    "from sde_gp_em import jacobian_of_drift"
   ]
  },
  {
   "cell_type": "code",
   "execution_count": 2,
   "metadata": {},
   "outputs": [],
   "source": [
    "from sdes import SDE,ConstantDiffusion,TwoDimensionalSynDrift,DoubleWellDrift,MaxDiffusion"
   ]
  },
  {
   "cell_type": "code",
   "execution_count": 25,
   "metadata": {},
   "outputs": [],
   "source": [
    "dt = 0.002\n",
    "number_of_steps = 10000\n",
    "num_paths = 3\n",
    "sigma = 1.\n",
    "\n",
    "x_0 = torch.rand((1,)).unsqueeze(-1)\n",
    "real_drift = DoubleWellDrift(a=4.,b=4.)\n",
    "diffusion = MaxDiffusion()\n",
    "#diffusion = ConstantDiffusion(sigma=sigma)\n",
    "\n",
    "#x_0 = torch.rand((2,)).unsqueeze(0)\n",
    "#real_drift = TwoDimensionalSynDrift()\n",
    "#diffusion = ConstantDiffusion(sigma=sigma)\n",
    "\n",
    "sde = SDE(real_drift,diffusion,dt=dt)\n",
    "dense_path_realization = sde.simulate(x_0, number_of_steps, num_paths=num_paths)\n",
    "dense_path_realization = dense_path_realization[0,:,:]"
   ]
  },
  {
   "cell_type": "code",
   "execution_count": 26,
   "metadata": {},
   "outputs": [],
   "source": [
    "#=============================================\n",
    "#DEFINE SPARSE OBSERVATIONS\n",
    "#=============================================\n",
    "num_dense_steps_in_bridge = 2\n",
    "number_of_steps = dense_path_realization.size(0)\n",
    "dense_time = torch.arange(0,number_of_steps)*dt\n",
    "max_time = number_of_steps*dt\n",
    "observation_index = range(0,number_of_steps,num_dense_steps_in_bridge)\n",
    "sparse_observation_time = dense_time[observation_index]\n",
    "sparse_observations = dense_path_realization[observation_index]"
   ]
  },
  {
   "cell_type": "code",
   "execution_count": 27,
   "metadata": {},
   "outputs": [],
   "source": [
    "n_points = sparse_observations.size(0)\n",
    "dimensions = sparse_observations.size(1)\n",
    "observations = sparse_observations"
   ]
  },
  {
   "cell_type": "code",
   "execution_count": 36,
   "metadata": {},
   "outputs": [],
   "source": [
    "diffusion_diagonal = diffusion(observations)\n",
    "drift_at_points = real_drift(observations)\n",
    "Gamma = jacobian_of_drift(real_drift,observations)\n",
    "\n",
    "D = torch.zeros((n_points,dimensions,dimensions))\n",
    "E = torch.zeros((n_points,2*dimensions,2*dimensions))\n",
    "OI = torch.zeros((2*dimensions,dimensions))\n",
    "OI[dimensions:,:] = torch.eye(dimensions)\n",
    "\n",
    "D[:,range(dimensions),range(dimensions)] = diffusion_diagonal\n",
    "E[:,:dimensions,:dimensions] = Gamma \n",
    "E[:,:dimensions:,dimensions:] = D\n",
    "E[:,dimensions:,dimensions:] = Gamma.transpose(2,1)"
   ]
  },
  {
   "cell_type": "code",
   "execution_count": 37,
   "metadata": {},
   "outputs": [
    {
     "data": {
      "text/plain": [
       "torch.Size([5001, 1, 1])"
      ]
     },
     "execution_count": 37,
     "metadata": {},
     "output_type": "execute_result"
    }
   ],
   "source": [
    "Gamma.shape"
   ]
  },
  {
   "cell_type": "code",
   "execution_count": 30,
   "metadata": {},
   "outputs": [
    {
     "data": {
      "text/plain": [
       "torch.Size([5001, 1])"
      ]
     },
     "execution_count": 30,
     "metadata": {},
     "output_type": "execute_result"
    }
   ],
   "source": [
    "drift_at_points.shape"
   ]
  },
  {
   "cell_type": "code",
   "execution_count": 38,
   "metadata": {},
   "outputs": [],
   "source": [
    "import torch\n",
    "\n",
    "def jacobian_fd_batch_no_loop(f, x, epsilon=1e-6):\n",
    "    \"\"\"\n",
    "    Compute the Jacobian of the function f: R^3 -> R^3 using finite differences for a batch of points,\n",
    "    without using explicit loops.\n",
    "    \n",
    "    Args:\n",
    "    - f (callable): the function mapping R^3 to R^3\n",
    "    - x (torch.Tensor): input tensor of shape (number_of_points, 3)\n",
    "    - epsilon (float): small perturbation value for finite differences\n",
    "\n",
    "    Returns:\n",
    "    - J (torch.Tensor): Jacobian matrix for each point, shape (number_of_points, 3, 3)\n",
    "    \"\"\"\n",
    "    num_points = x.shape[0]\n",
    "    dimensions = x.shape[1]\n",
    "    \n",
    "    # Compute the function value for all points\n",
    "    fx = f(x)  # Shape: (number_of_points, dimensions)\n",
    "    \n",
    "    # Prepare perturbations for all dimensions (broadcasting approach)\n",
    "    perturbations = torch.eye(dimensions, device=x.device).unsqueeze(0) * epsilon  # Shape: (1, dimensions, dimensions)\n",
    "    x_perturbed = x.unsqueeze(1) + perturbations  # Shape: (number_of_points, dimensions, dimensions)\n",
    "    \n",
    "    # Reshape x_perturbed to apply f\n",
    "    x_perturbed_flat = x_perturbed.view(-1, dimensions)  # Shape: (number_of_points * dimensions, dimensions)\n",
    "    \n",
    "    # Compute f(x + epsilon * e_i) for all perturbed points\n",
    "    fx_perturbed = f(x_perturbed_flat).view(num_points, dimensions, dimensions)  # Shape: (number_of_points, dimensions, dimensions)\n",
    "    \n",
    "    # Compute the Jacobian using finite differences\n",
    "    J = (fx_perturbed - fx.unsqueeze(2)) / epsilon  # Shape: (number_of_points, dimensions, dimensions)\n",
    "    \n",
    "    return J\n",
    "\n",
    "# Example usage\n",
    "# Define a function f: R^3 -> R^3\n",
    "def f(x):\n",
    "    return torch.stack([x[:, 0]**2, x[:, 1]**3, torch.sin(x[:, 2])], dim=1)\n",
    "\n",
    "# Define a batch of input points (2 points in this example)\n",
    "x = torch.tensor([[1.0],\n",
    "                  [0.5]], requires_grad=True)"
   ]
  },
  {
   "cell_type": "code",
   "execution_count": 39,
   "metadata": {},
   "outputs": [
    {
     "name": "stdout",
     "output_type": "stream",
     "text": [
      "tensor([[[-8.0109]],\n",
      "\n",
      "        [[ 1.0014]]], grad_fn=<DivBackward0>)\n"
     ]
    }
   ],
   "source": [
    "# Compute the Jacobian for each point\n",
    "J_batch = jacobian_fd_batch_no_loop(real_drift, x,epsilon=1e-5)\n",
    "print(J_batch)"
   ]
  },
  {
   "cell_type": "code",
   "execution_count": 42,
   "metadata": {},
   "outputs": [
    {
     "data": {
      "text/plain": [
       "torch.Size([2, 1, 1])"
      ]
     },
     "execution_count": 42,
     "metadata": {},
     "output_type": "execute_result"
    }
   ],
   "source": [
    "Gamma = jacobian_of_drift(real_drift,x)\n",
    "Gamma.shape"
   ]
  },
  {
   "cell_type": "code",
   "execution_count": 41,
   "metadata": {},
   "outputs": [
    {
     "data": {
      "text/plain": [
       "torch.Size([2, 1, 1])"
      ]
     },
     "execution_count": 41,
     "metadata": {},
     "output_type": "execute_result"
    }
   ],
   "source": [
    "J_batch.shape"
   ]
  },
  {
   "cell_type": "code",
   "execution_count": null,
   "metadata": {},
   "outputs": [],
   "source": []
  }
 ],
 "metadata": {
  "kernelspec": {
   "display_name": "rate_matching",
   "language": "python",
   "name": "python3"
  },
  "language_info": {
   "codemirror_mode": {
    "name": "ipython",
    "version": 3
   },
   "file_extension": ".py",
   "mimetype": "text/x-python",
   "name": "python",
   "nbconvert_exporter": "python",
   "pygments_lexer": "ipython3",
   "version": "3.10.9"
  }
 },
 "nbformat": 4,
 "nbformat_minor": 2
}
