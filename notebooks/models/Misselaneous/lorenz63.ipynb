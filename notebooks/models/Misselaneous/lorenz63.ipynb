{
 "cells": [
  {
   "cell_type": "code",
   "execution_count": 32,
   "metadata": {},
   "outputs": [],
   "source": [
    "import jax\n",
    "import jax.numpy as jnp\n",
    "import numpy as np\n",
    "\n",
    "# Define the Lorenz 63 system\n",
    "def lorenz63(state, params):\n",
    "    x, y, z = state\n",
    "    sigma, rho, beta = params\n",
    "    dxdt = sigma * (y - x)\n",
    "    dydt = x * (rho - z) - y\n",
    "    dzdt = x * y - beta * z\n",
    "    return jnp.array([dxdt, dydt, dzdt])\n",
    "\n",
    "# Analytic Jacobian\n",
    "def analytic_jacobian(state, params):\n",
    "    x, y, z = state\n",
    "    sigma, rho, beta = params\n",
    "    jac = jnp.array([\n",
    "        [-sigma,  sigma,  0.0],\n",
    "        [rho - z, -1.0,  -x],\n",
    "        [y,       x,  -beta]\n",
    "    ])\n",
    "    return jac\n",
    "\n",
    "def analytical_eigenvalues(params):\n",
    "    sigma, rho, beta = np.array(params)\n",
    "    lambda_1 = -beta\n",
    "\n",
    "    A = -(sigma+1.)\n",
    "    B = np.sqrt((sigma+1.)**2 + 4*sigma*(rho-1))\n",
    "    lambda_2 = (A + B)/2.\n",
    "    lambda_3 = (A-B)/2.\n",
    "    return [lambda_1,lambda_2,lambda_3]\n",
    "\n",
    "\n",
    "def calculate_rH(params):\n",
    "    sigma, rho, beta = np.array(params)\n",
    "    rH = sigma*(sigma+beta+3.)/(sigma-beta-1)\n",
    "    return rH\n"
   ]
  },
  {
   "cell_type": "code",
   "execution_count": 33,
   "metadata": {},
   "outputs": [],
   "source": [
    "# Example state and parameters\n",
    "state = jnp.array([.0, .0, .0])\n",
    "params = jnp.array([10.0, 28.0, 8/3])\n",
    "rH = calculate_rH(params)\n",
    "\n",
    "# Compute the Jacobian with respect to the state vector using JAX\n",
    "jacobian_fn = jax.jacfwd(lorenz63, argnums=0)\n",
    "jax_jacobian = jacobian_fn(state, params)\n",
    "\n",
    "# Compute the analytic Jacobian\n",
    "analytic_jac = analytic_jacobian(state, params)\n",
    "\n",
    "# Compute analytical eigen values\n",
    "analytical_eigen = analytical_eigenvalues(params)\n",
    "\n",
    "#Compute numerical eigen valuesb\n",
    "num_eigen_values, eigen_vectors = np.linalg.eig(np.array(jax_jacobian))"
   ]
  },
  {
   "cell_type": "code",
   "execution_count": 9,
   "metadata": {},
   "outputs": [],
   "source": [
    "print(\"JAX-Computed Jacobian:\\n\", jax_jacobian)\n",
    "print(\"\\nAnalytic Jacobian:\\n\", analytic_jac)\n",
    "\n",
    "# Compare the Jacobians\n",
    "print(\"\\nDifference between JAX and Analytic Jacobian:\\n\", jax_jacobian - analytic_jac)"
   ]
  },
  {
   "cell_type": "code",
   "execution_count": 34,
   "metadata": {},
   "outputs": [
    {
     "data": {
      "text/plain": [
       "24.736843848822936"
      ]
     },
     "execution_count": 34,
     "metadata": {},
     "output_type": "execute_result"
    }
   ],
   "source": [
    "rH"
   ]
  },
  {
   "cell_type": "code",
   "execution_count": null,
   "metadata": {},
   "outputs": [],
   "source": []
  },
  {
   "cell_type": "code",
   "execution_count": 28,
   "metadata": {},
   "outputs": [
    {
     "data": {
      "text/plain": [
       "[-2.6666667, 11.827723451163457, -22.827723451163457]"
      ]
     },
     "execution_count": 28,
     "metadata": {},
     "output_type": "execute_result"
    }
   ],
   "source": [
    "analytical_eigen"
   ]
  },
  {
   "cell_type": "code",
   "execution_count": 29,
   "metadata": {},
   "outputs": [
    {
     "data": {
      "text/plain": [
       "array([-22.827723 ,  11.8277235,  -2.6666667], dtype=float32)"
      ]
     },
     "execution_count": 29,
     "metadata": {},
     "output_type": "execute_result"
    }
   ],
   "source": [
    "num_eigen_values"
   ]
  },
  {
   "cell_type": "code",
   "execution_count": null,
   "metadata": {},
   "outputs": [],
   "source": []
  }
 ],
 "metadata": {
  "kernelspec": {
   "display_name": "rate_matching",
   "language": "python",
   "name": "python3"
  },
  "language_info": {
   "codemirror_mode": {
    "name": "ipython",
    "version": 3
   },
   "file_extension": ".py",
   "mimetype": "text/x-python",
   "name": "python",
   "nbconvert_exporter": "python",
   "pygments_lexer": "ipython3",
   "version": "3.10.9"
  }
 },
 "nbformat": 4,
 "nbformat_minor": 2
}
