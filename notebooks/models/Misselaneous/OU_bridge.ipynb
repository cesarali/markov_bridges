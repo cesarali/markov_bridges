{
 "cells": [
  {
   "cell_type": "code",
   "execution_count": 1,
   "metadata": {},
   "outputs": [],
   "source": [
    "import os\n",
    "import sys\n",
    "import torch\n",
    "from torch import matmul as m\n",
    "from sdes import TwoDimensionalSynDrift\n",
    "from torch.autograd.functional import jacobian\n",
    "\n",
    "from torch.distributions import MultivariateNormal\n",
    "\n",
    "sys.path.insert(0,\".\")\n",
    "\n",
    "from gps import MultivariateNormal,white_noise_kernel"
   ]
  },
  {
   "cell_type": "markdown",
   "metadata": {},
   "source": [
    "# SDEs"
   ]
  },
  {
   "cell_type": "markdown",
   "metadata": {},
   "source": [
    "## Diffusion Functions"
   ]
  },
  {
   "cell_type": "code",
   "execution_count": 2,
   "metadata": {},
   "outputs": [],
   "source": [
    "class ConstantDiffusion:\n",
    "    def __init__(self, sigma=0.5):\n",
    "        self.sigma = sigma\n",
    "    \n",
    "    def __call__(self, x):\n",
    "        return self.sigma * torch.ones_like(x)"
   ]
  },
  {
   "cell_type": "markdown",
   "metadata": {},
   "source": [
    "## Drift Functions"
   ]
  },
  {
   "cell_type": "code",
   "execution_count": 3,
   "metadata": {},
   "outputs": [],
   "source": [
    "# Define the drift and diffusion functions for the double well potential SDE\n",
    "class TwoDimensionalSynDrift:\n",
    "    \n",
    "    def __init__(self):\n",
    "        pass\n",
    "    \n",
    "    def __call__(self, X):\n",
    "        x = X[:,0]\n",
    "        y = X[:,1]\n",
    "        dxdt = x*(1.-x**2 - y**2)\n",
    "        dydt = y*(1.-x**2 - y**2)\n",
    "        return torch.stack([dxdt, dydt], dim=1)\n",
    "    \n",
    "    def derivative(self,X):\n",
    "        x = X[:,0]\n",
    "        y = X[:,1]\n",
    "        A = (1.-x**2 - y**2)\n",
    "        fxx = A -2.*x**2\n",
    "        fxy = -2.*x*y\n",
    "        fyx = -2.*x*y\n",
    "        fyy = A - 2.*y**2\n",
    "\n",
    "        J = torch.zeros((X.size(0),X.size(1),X.size(1)))\n",
    "        J[:,0,0] = fxx\n",
    "        J[:,0,1] = fxy\n",
    "        J[:,1,0] = fyx\n",
    "        J[:,1,1] = fyy\n",
    "\n",
    "        return J"
   ]
  },
  {
   "cell_type": "markdown",
   "metadata": {},
   "source": [
    "# Numerics"
   ]
  },
  {
   "cell_type": "code",
   "execution_count": 4,
   "metadata": {},
   "outputs": [],
   "source": [
    "def jacobian_of_drift(drift,inducing_points):\n",
    "    \"\"\"\n",
    "    parameters\n",
    "    ----------\n",
    "    drift: R^D - > R^D\n",
    "    inducing_points: [n,D]\n",
    "\n",
    "    returns\n",
    "    -------\n",
    "    J: shape[n,D,D]\n",
    "    \"\"\"\n",
    "    J = []\n",
    "    for i in range(inducing_points.size(1)):\n",
    "        drift_i = lambda x: drift(x)[:,i]\n",
    "        j_i = jacobian(drift_i, inducing_points)\n",
    "        j_i = j_i[range(inducing_points.size(0)),range(inducing_points.size(0))]\n",
    "        J.append(j_i.clone().unsqueeze(-1))\n",
    "    J = torch.cat(J,dim=-1)\n",
    "    return J"
   ]
  },
  {
   "cell_type": "markdown",
   "metadata": {},
   "source": [
    "# Derivatives"
   ]
  },
  {
   "cell_type": "code",
   "execution_count": 5,
   "metadata": {},
   "outputs": [],
   "source": [
    "drift = TwoDimensionalSynDrift()\n",
    "diffusion = ConstantDiffusion(sigma=1.)\n",
    "\n",
    "# Define the range and number of points for the grid\n",
    "x_range = torch.linspace(-2.0, 2.0, 10)  # 10 points in x-axis from -2 to 2\n",
    "y_range = torch.linspace(-2.0, 2.0, 10)  # 10 points in y-axis from -2 to 2\n",
    "\n",
    "# Define the range and number of points for the grid\n",
    "x_range_i = torch.linspace(-2.0, 2.0, 5)  # 10 points in x-axis from -2 to 2\n",
    "y_range_i = torch.linspace(-2.0, 2.0, 5)  # 10 points in y-axis from -2 to 2\n",
    "\n",
    "# Create a 2D grid of points\n",
    "X, Y = torch.meshgrid(x_range, y_range, indexing='ij')  # 'ij' indexing for matrix indexing\n",
    "X_i, Y_i = torch.meshgrid(x_range_i, y_range_i, indexing='ij')  # 'ij' indexing for matrix indexing\n",
    "\n",
    "observation_points = torch.stack([X, Y], dim=-1).view(-1, 2)  # Reshape to (n, 2) format\n",
    "inducing_points = torch.stack([X_i, Y_i], dim=-1).view(-1, 2)  # Reshape to (n, 2) format\n",
    "\n",
    "n_inducing = inducing_points.size(0)\n",
    "f_inducing = MultivariateNormal(torch.zeros((2,)),torch.eye(2)).sample((n_inducing,))\n"
   ]
  },
  {
   "cell_type": "markdown",
   "metadata": {},
   "source": [
    "# OU Bridge"
   ]
  },
  {
   "cell_type": "markdown",
   "metadata": {},
   "source": [
    "\\begin{equation}\n",
    "dX_t = [f(z_k) - \\Gamma_k(X_t-z_k)]dt + D^{1/2}dW\n",
    "\\end{equation}\n",
    "\n",
    "\n",
    " \\begin{equation}\n",
    "\\begin{bmatrix} A_s \\\\ B_s  \\end{bmatrix} = \n",
    "\\exp\\left(\\begin{bmatrix} \\Gamma_k&D_k\\\\0&-\\Gamma^T_k \\end{bmatrix}\\right)\\begin{bmatrix} 0 \\\\ I  \\end{bmatrix}\n",
    "\\end{equation}\n"
   ]
  },
  {
   "cell_type": "code",
   "execution_count": 6,
   "metadata": {},
   "outputs": [],
   "source": [
    "def E_matrix(points,drift,diffusion):\n",
    "    \"\"\"\n",
    "    returns:[n_points,2*dimensions,2*dimensions] the E matrix to calculate the marginals of the OU bridge\n",
    "\n",
    "    \"\"\"\n",
    "    n_points = points.size(0)\n",
    "    dimensions = points.size(1)\n",
    "\n",
    "    diagonal_k = diffusion(points)\n",
    "    Gamma_k = jacobian_of_drift(drift,points)\n",
    "\n",
    "    D_k = torch.zeros((n_points,dimensions,dimensions))\n",
    "    E_k = torch.zeros((n_points,2*dimensions,2*dimensions))\n",
    "    OI = torch.zeros((2*dimensions,dimensions))\n",
    "    OI[dimensions:,:] = torch.eye(dimensions)\n",
    "\n",
    "    D_k[:,range(dimensions),range(dimensions)] = diagonal_k\n",
    "    E_k[:,:dimensions,:dimensions] = Gamma_k \n",
    "    E_k[:,:dimensions:,dimensions:] = D_k\n",
    "    E_k[:,dimensions:,dimensions:] = Gamma_k.transpose(2,1)\n",
    "    return OI,E_k\n",
    "\n",
    "def where_mc_time(mc_times,observation_times):\n",
    "    \"\"\"\n",
    "    mc_times: shape[nmc]\n",
    "    observation_times: shape[n_observations]\n",
    "    where_mc_time: shape[nmc] index of observations times where mc_times is located\n",
    "    \"\"\"\n",
    "    n_observations = observation_times.size(0)\n",
    "    right_ = mc_times[:,None] > observation_times[:n_observations-1][None,:]\n",
    "    left_ = mc_times[:,None] < observation_times[1:][None,:]\n",
    "    where_mc_time_index = right_*left_\n",
    "    where_mc_time_index = torch.argmax(where_mc_time_index.float(),dim=1)\n",
    "    return where_mc_time_index"
   ]
  },
  {
   "cell_type": "code",
   "execution_count": 7,
   "metadata": {},
   "outputs": [],
   "source": [
    "t_nmc = 10\n",
    "x_nmc = 9\n",
    "\n",
    "mc_times = torch.rand((t_nmc,)) # points in time where to evaluate the bridge for the monte carlo\n",
    "points = observation_points # these points can be either observations or inducing points\n",
    "observation_times = torch.linspace(0.,1.,points.size(0)) # times where the points where observed"
   ]
  },
  {
   "cell_type": "code",
   "execution_count": 8,
   "metadata": {},
   "outputs": [],
   "source": [
    "n_points = points.size(0)\n",
    "dimensions = points.size(1)\n",
    "\n",
    "diffusion_diagonal = diffusion(points)\n",
    "drift_at_points = drift(points)\n",
    "Gamma = jacobian_of_drift(drift,points)\n",
    "\n",
    "D = torch.zeros((n_points,dimensions,dimensions))\n",
    "E = torch.zeros((n_points,2*dimensions,2*dimensions))\n",
    "OI = torch.zeros((2*dimensions,dimensions))\n",
    "OI[dimensions:,:] = torch.eye(dimensions)\n",
    "\n",
    "D[:,range(dimensions),range(dimensions)] = diffusion_diagonal\n",
    "E[:,:dimensions,:dimensions] = Gamma \n",
    "E[:,:dimensions:,dimensions:] = D\n",
    "E[:,dimensions:,dimensions:] = Gamma.transpose(2,1)"
   ]
  },
  {
   "cell_type": "code",
   "execution_count": 9,
   "metadata": {},
   "outputs": [],
   "source": [
    "where_mc_time_index = where_mc_time(mc_times,observation_times)\n",
    "\n",
    "z_k = points[where_mc_time_index]\n",
    "z_k1 = points[where_mc_time_index+1]\n",
    "\n",
    "f_k = drift_at_points[where_mc_time_index,:]\n",
    "E_k = E[where_mc_time_index,:,:]\n",
    "Gamma_k = Gamma[where_mc_time_index,:,:]\n",
    "Gamma_k_inv = torch.inverse(Gamma_k)\n",
    "D_k = D[where_mc_time_index,:,:]\n",
    "\n",
    "time_difference_k1 = observation_times[where_mc_time_index+1,None,None]-mc_times[:,None,None]\n",
    "time_difference_k = mc_times[:,None,None] - observation_times[where_mc_time_index,None,None]\n",
    "\n",
    "E_k1 = torch.matrix_exp(E_k*time_difference_k1)\n",
    "E_k1 = torch.matmul(E_k,OI)\n",
    "\n",
    "E_k = torch.matrix_exp(E_k*time_difference_k)\n",
    "E_k = torch.matmul(E_k,OI)\n",
    "\n",
    "A_s1 = E_k1[:,:dimensions,:]\n",
    "B_s1 = E_k1[:,dimensions:,:]\n",
    "\n",
    "A_s = E_k[:,:dimensions,:]\n",
    "B_s = E_k[:,dimensions:,:]\n",
    "\n",
    "S_s1 = torch.matmul(A_s1,torch.inverse(B_s1))\n",
    "S_s1_inv = torch.inverse(S_s1)\n",
    "\n",
    "S_s = torch.matmul(A_s,torch.inverse(B_s))\n",
    "S_s_inv = torch.inverse(S_s)\n",
    "\n",
    "alpha_k = z_k + m(Gamma_k_inv,f_k.unsqueeze(-1)).squeeze()\n",
    "\n",
    "ME1 = torch.matrix_exp(-Gamma_k.transpose(2,1)*time_difference_k1)\n",
    "ME2 = torch.matrix_exp(-Gamma_k*time_difference_k1)\n",
    "\n",
    "C_t = torch.inverse(m(ME1,m(S_s1_inv,ME2))+S_s_inv)\n",
    "\n",
    "ME3 = m(C_t,m(ME1,S_s1_inv))\n",
    "a = z_k1[:,:,None] - alpha_k[:,:,None] + m(ME2,alpha_k[:,:,None])\n",
    "\n",
    "ME4 = m(C_t,S_s_inv)\n",
    "b = alpha_k[:,:,None] + m(torch.matrix_exp(-Gamma_k*time_difference_k),(z_k[:,:,None]-alpha_k[:,:,None]))\n",
    "\n",
    "m_t = m(ME3,a) + m(ME4,b)\n",
    "\n",
    "q_t = MultivariateNormal(m_t.squeeze(),C_t)\n",
    "g_t = f_k\n",
    "\n",
    "monte_carlo_points = q_t.sample((x_nmc,))\n",
    "A_x = q_t.log_prob(monte_carlo_points).reshape(-1)"
   ]
  },
  {
   "cell_type": "code",
   "execution_count": 10,
   "metadata": {},
   "outputs": [],
   "source": [
    "x_nmc,time_nmc,_ = monte_carlo_points.shape\n",
    "monte_carlo_points_ = monte_carlo_points.reshape(x_nmc*time_nmc,-1) # first index \n",
    "full_mc = x_nmc*time_nmc"
   ]
  },
  {
   "cell_type": "code",
   "execution_count": 11,
   "metadata": {},
   "outputs": [],
   "source": [
    "Gamma_k_ = Gamma_k.repeat((x_nmc,1,1))\n",
    "S_s1_inv_ = S_s1_inv.repeat((x_nmc,1,1))\n",
    "z_k_ = z_k.repeat((x_nmc,1))\n",
    "z_k1_ = z_k1.repeat((x_nmc,1))\n",
    "alpha_k_ = alpha_k.repeat((x_nmc,1))\n",
    "f_k_ = f_k.repeat((x_nmc,1)) \n",
    "time_difference_k1_ = time_difference_k1.repeat((x_nmc,1,1)) \n",
    "D_k_ = D_k.repeat((x_nmc,1,1))"
   ]
  },
  {
   "cell_type": "code",
   "execution_count": 12,
   "metadata": {},
   "outputs": [],
   "source": [
    "A = f_k_[:,:,None] - m(Gamma_k_,(monte_carlo_points_ - z_k_)[:,:,None])\n",
    "MEa = torch.matrix_exp(-Gamma_k_.transpose(2,1)*time_difference_k1_)\n",
    "MEb = torch.matrix_exp(-Gamma_k_*time_difference_k1_)\n",
    "B = m(D_k_,m(MEa,S_s1_inv_))\n",
    "C = z_k1_[:,:,None] - alpha_k_[:,:,None] - m(MEb,(monte_carlo_points_-alpha_k_)[:,:,None])\n",
    "\n",
    "g_x = A + m(B,C)"
   ]
  },
  {
   "cell_type": "markdown",
   "metadata": {},
   "source": [
    "# EM"
   ]
  },
  {
   "cell_type": "markdown",
   "metadata": {},
   "source": [
    "\\begin{equation}\n",
    "\\mathcal{L}_s(f,q) = \\frac{1}{2}\\int||E_0[f(x)|f_s]||^2 A(x) dx - \\frac{1}{2}\\int(E_0[f(x)|f_s],b(x))dx\n",
    "\\end{equation}\n",
    "\n",
    "\\begin{equation}\n",
    "\\Lambda_s = K^{-1}_s\\left\\{\\int k_s(x)D^{-1}(x)A(x) k^T_s(x)dx\\right\\} K^{-1}_s\n",
    "\\end{equation}\n",
    "\n",
    "\\begin{equation}\n",
    "y_s = K^{-1}_s\\int D^{-1}(x)k_s(x)b(x)dx\n",
    "\\end{equation}"
   ]
  },
  {
   "cell_type": "markdown",
   "metadata": {},
   "source": [
    "## GPS"
   ]
  },
  {
   "cell_type": "code",
   "execution_count": 13,
   "metadata": {},
   "outputs": [],
   "source": [
    "from gpytorch.kernels import RBFKernel, ScaleKernel\n",
    "import numpy as np\n",
    "\n",
    "#==============================================\n",
    "windows_size = dimensions\n",
    "kernel_sigma = 1.\n",
    "kernel_l = 1.\n",
    "\n",
    "# ========================================================================\n",
    "# DEFINE AND INITIALIZE KERNEL\n",
    "kernel = ScaleKernel(RBFKernel(ard_num_dims=windows_size, requires_grad=True),requires_grad=True) + white_noise_kernel()\n",
    "hypers = {\"raw_outputscale\": torch.tensor(kernel_sigma),\"base_kernel.raw_lengthscale\": torch.tensor(np.repeat(kernel_l, windows_size))}\n",
    "kernel = kernel.kernels[0].initialize(**hypers)"
   ]
  },
  {
   "cell_type": "code",
   "execution_count": 24,
   "metadata": {},
   "outputs": [],
   "source": [
    "dimension_index = 0\n",
    "D_mc_diagonal = diffusion(monte_carlo_points_)\n",
    "D_ind = torch.diag(diffusion(inducing_points)[:,dimension_index])"
   ]
  },
  {
   "cell_type": "code",
   "execution_count": 25,
   "metadata": {},
   "outputs": [],
   "source": [
    "K_t_ind = kernel.forward(monte_carlo_points_, inducing_points)\n",
    "K_ind_ind = kernel.forward(inducing_points, inducing_points)\n",
    "K_ind_ind_inv = torch.inverse(K_ind_ind)"
   ]
  },
  {
   "cell_type": "code",
   "execution_count": 47,
   "metadata": {},
   "outputs": [
    {
     "data": {
      "text/plain": [
       "torch.Size([25, 25])"
      ]
     },
     "execution_count": 47,
     "metadata": {},
     "output_type": "execute_result"
    }
   ],
   "source": [
    "Lambda_s = m(K_t_ind,K_t_ind.T)[range(full_mc),range(full_mc)]\n",
    "Lambda_s = Lambda_s*D_mc_diagonal[:,dimension_index]*A_x\n",
    "Lambda_s = m(K_ind_ind_inv,K_ind_ind_inv)*Lambda_s.mean()"
   ]
  },
  {
   "cell_type": "code",
   "execution_count": 34,
   "metadata": {},
   "outputs": [],
   "source": [
    "b_x = A_x*g_x[:,dimension_index,0]\n",
    "b_integral = (K_t_ind*b_x[:,None]).mean(axis=0)\n",
    "y_s = m(K_ind_ind_inv,b_integral[:,None])\n",
    "\n",
    "nx = 42\n",
    "X = torch.rand((nx,dimensions))\n",
    "kx = kernel.forward(X, inducing_points)\n",
    "\n",
    "A = torch.inverse(torch.eye(n_inducing) + m(Lambda_s,K_ind_ind_inv))\n",
    "f_x = m(m(kx,A),y_s)"
   ]
  },
  {
   "cell_type": "code",
   "execution_count": 48,
   "metadata": {},
   "outputs": [],
   "source": []
  },
  {
   "cell_type": "code",
   "execution_count": null,
   "metadata": {},
   "outputs": [],
   "source": []
  }
 ],
 "metadata": {
  "kernelspec": {
   "display_name": "rate_matching",
   "language": "python",
   "name": "python3"
  },
  "language_info": {
   "codemirror_mode": {
    "name": "ipython",
    "version": 3
   },
   "file_extension": ".py",
   "mimetype": "text/x-python",
   "name": "python",
   "nbconvert_exporter": "python",
   "pygments_lexer": "ipython3",
   "version": "3.10.9"
  }
 },
 "nbformat": 4,
 "nbformat_minor": 2
}
