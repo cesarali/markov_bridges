{
 "cells": [
  {
   "cell_type": "code",
   "execution_count": 4,
   "metadata": {},
   "outputs": [],
   "source": [
    "from dataclasses import dataclass\n",
    "\n",
    "from markov_bridges.data.qm9_dataloader import QM9DataModule\n",
    "from markov_bridges.data.qm9_dataloader import QM9Dataset,RemoveYTransform\n",
    "from markov_bridges.data.qm9.dataset import retrieve_dataloaders"
   ]
  },
  {
   "cell_type": "code",
   "execution_count": 2,
   "metadata": {},
   "outputs": [],
   "source": [
    "from markov_bridges.data.qm9_dataloader import QM9DataModule\n",
    "from markov_bridges.data.qm9_dataloader import QM9Dataset,RemoveYTransform"
   ]
  },
  {
   "cell_type": "code",
   "execution_count": 3,
   "metadata": {},
   "outputs": [],
   "source": [
    "@dataclass\n",
    "class QM9Config:\n",
    "    batch_size:int = 32\n",
    "    num_workers:int = 12\n",
    "    filter_n_atoms:int = None\n",
    "    include_charges:bool = True\n",
    "    subtract_thermo:bool = False\n",
    "    force_download:bool = False\n",
    "\n",
    "    remove_h:bool = False\n",
    "    dataset:str = 'qm9'\n",
    "    datadir:str = r\"C:\\Users\\cesar\\Desktop\\Projects\\DiffusiveGenerativeModelling\\OurCodes\\markov_bridges\\data\\raw\\graph\"\n",
    "    wandb:bool = False"
   ]
  },
  {
   "cell_type": "code",
   "execution_count": 5,
   "metadata": {},
   "outputs": [],
   "source": [
    "config = QM9Config()\n",
    "dataloaders, charge_scale = retrieve_dataloaders(config)\n"
   ]
  },
  {
   "cell_type": "code",
   "execution_count": 6,
   "metadata": {},
   "outputs": [],
   "source": [
    "databatch = next(dataloaders[\"train\"].__iter__())"
   ]
  },
  {
   "cell_type": "code",
   "execution_count": 9,
   "metadata": {},
   "outputs": [
    {
     "data": {
      "text/plain": [
       "dict_keys(['num_atoms', 'charges', 'positions', 'index', 'A', 'B', 'C', 'mu', 'alpha', 'homo', 'lumo', 'gap', 'r2', 'zpve', 'U0', 'U', 'H', 'G', 'Cv', 'omega1', 'zpve_thermo', 'U0_thermo', 'U_thermo', 'H_thermo', 'G_thermo', 'Cv_thermo', 'one_hot', 'atom_mask', 'edge_mask'])"
      ]
     },
     "execution_count": 9,
     "metadata": {},
     "output_type": "execute_result"
    }
   ],
   "source": [
    "databatch.keys()"
   ]
  },
  {
   "cell_type": "code",
   "execution_count": 28,
   "metadata": {},
   "outputs": [
    {
     "data": {
      "text/plain": [
       "torch.Size([32, 27, 3])"
      ]
     },
     "execution_count": 28,
     "metadata": {},
     "output_type": "execute_result"
    }
   ],
   "source": [
    "databatch['positions'].shape"
   ]
  }
 ],
 "metadata": {
  "kernelspec": {
   "display_name": "rate_matching",
   "language": "python",
   "name": "python3"
  },
  "language_info": {
   "codemirror_mode": {
    "name": "ipython",
    "version": 3
   },
   "file_extension": ".py",
   "mimetype": "text/x-python",
   "name": "python",
   "nbconvert_exporter": "python",
   "pygments_lexer": "ipython3",
   "version": "3.10.9"
  }
 },
 "nbformat": 4,
 "nbformat_minor": 2
}
