{
 "cells": [
  {
   "cell_type": "code",
   "execution_count": 13,
   "metadata": {},
   "outputs": [],
   "source": [
    "import torch\n",
    "from dataclasses import asdict\n",
    "import markov_bridges.data.qm9.utils as qm9utils\n",
    "from markov_bridges.data.dataloaders_utils import get_dataloaders\n",
    "from markov_bridges.configs.config_classes.data.molecules_configs import QM9Config\n",
    "from markov_bridges.configs.experiments_configs.mixed.edmg_experiments import get_edmg_experiment"
   ]
  },
  {
   "cell_type": "code",
   "execution_count": 5,
   "metadata": {},
   "outputs": [],
   "source": [
    "config = get_edmg_experiment()\n",
    "config.data = QM9Config(num_pts_train=1000,\n",
    "                        num_pts_test=200,\n",
    "                        num_pts_valid=200)"
   ]
  },
  {
   "cell_type": "code",
   "execution_count": 6,
   "metadata": {},
   "outputs": [
    {
     "name": "stdout",
     "output_type": "stream",
     "text": [
      "Conditioning on ['H_thermo', 'homo']\n"
     ]
    }
   ],
   "source": [
    "dataloaders = get_dataloaders(config)"
   ]
  },
  {
   "cell_type": "code",
   "execution_count": 7,
   "metadata": {},
   "outputs": [],
   "source": [
    "databatch = dataloaders.get_databatch()\n",
    "#self.dtype = torch.float32"
   ]
  },
  {
   "cell_type": "code",
   "execution_count": 15,
   "metadata": {},
   "outputs": [],
   "source": [
    "from pprint import pprint"
   ]
  },
  {
   "cell_type": "code",
   "execution_count": 11,
   "metadata": {},
   "outputs": [
    {
     "name": "stdout",
     "output_type": "stream",
     "text": [
      "dict_keys(['num_atoms', 'charges', 'positions', 'index', 'A', 'B', 'C', 'mu', 'alpha', 'homo', 'lumo', 'gap', 'r2', 'zpve', 'U0', 'U', 'H', 'G', 'Cv', 'omega1', 'zpve_thermo', 'U0_thermo', 'U_thermo', 'H_thermo', 'G_thermo', 'Cv_thermo', 'one_hot', 'atom_mask', 'edge_mask'])\n"
     ]
    }
   ],
   "source": [
    "print(databatch.keys())"
   ]
  },
  {
   "cell_type": "code",
   "execution_count": 17,
   "metadata": {},
   "outputs": [],
   "source": [
    "context = qm9utils.prepare_context(config.noising_model.conditioning, \n",
    "                                   databatch, \n",
    "                                   dataloaders.property_norms)"
   ]
  },
  {
   "cell_type": "code",
   "execution_count": 11,
   "metadata": {},
   "outputs": [
    {
     "data": {
      "text/plain": [
       "torch.Size([32, 25, 2])"
      ]
     },
     "execution_count": 11,
     "metadata": {},
     "output_type": "execute_result"
    }
   ],
   "source": [
    "context.shape"
   ]
  },
  {
   "cell_type": "code",
   "execution_count": 12,
   "metadata": {},
   "outputs": [
    {
     "data": {
      "text/plain": [
       "torch.Size([32, 29, 1])"
      ]
     },
     "execution_count": 12,
     "metadata": {},
     "output_type": "execute_result"
    }
   ],
   "source": [
    "databatch[\"charges\"].shape"
   ]
  },
  {
   "cell_type": "code",
   "execution_count": 9,
   "metadata": {},
   "outputs": [
    {
     "data": {
      "text/plain": [
       "{'name': 'qm9',\n",
       " 'atom_encoder': {'H': 0, 'C': 1, 'N': 2, 'O': 3, 'F': 4},\n",
       " 'atom_decoder': ['H', 'C', 'N', 'O', 'F'],\n",
       " 'n_nodes': {22: 3393,\n",
       "  17: 13025,\n",
       "  23: 4848,\n",
       "  21: 9970,\n",
       "  19: 13832,\n",
       "  20: 9482,\n",
       "  16: 10644,\n",
       "  13: 3060,\n",
       "  15: 7796,\n",
       "  25: 1506,\n",
       "  18: 13364,\n",
       "  12: 1689,\n",
       "  11: 807,\n",
       "  24: 539,\n",
       "  14: 5136,\n",
       "  26: 48,\n",
       "  7: 16,\n",
       "  10: 362,\n",
       "  8: 49,\n",
       "  9: 124,\n",
       "  27: 266,\n",
       "  4: 4,\n",
       "  29: 25,\n",
       "  6: 9,\n",
       "  5: 5,\n",
       "  3: 1},\n",
       " 'max_n_nodes': 29,\n",
       " 'atom_types': {1: 635559, 2: 101476, 0: 923537, 3: 140202, 4: 2323},\n",
       " 'distances': [903054,\n",
       "  307308,\n",
       "  111994,\n",
       "  57474,\n",
       "  40384,\n",
       "  29170,\n",
       "  47152,\n",
       "  414344,\n",
       "  2202212,\n",
       "  573726,\n",
       "  1490786,\n",
       "  2970978,\n",
       "  756818,\n",
       "  969276,\n",
       "  489242,\n",
       "  1265402,\n",
       "  4587994,\n",
       "  3187130,\n",
       "  2454868,\n",
       "  2647422,\n",
       "  2098884,\n",
       "  2001974,\n",
       "  1625206,\n",
       "  1754172,\n",
       "  1620830,\n",
       "  1710042,\n",
       "  2133746,\n",
       "  1852492,\n",
       "  1415318,\n",
       "  1421064,\n",
       "  1223156,\n",
       "  1322256,\n",
       "  1380656,\n",
       "  1239244,\n",
       "  1084358,\n",
       "  981076,\n",
       "  896904,\n",
       "  762008,\n",
       "  659298,\n",
       "  604676,\n",
       "  523580,\n",
       "  437464,\n",
       "  413974,\n",
       "  352372,\n",
       "  291886,\n",
       "  271948,\n",
       "  231328,\n",
       "  188484,\n",
       "  160026,\n",
       "  136322,\n",
       "  117850,\n",
       "  103546,\n",
       "  87192,\n",
       "  76562,\n",
       "  61840,\n",
       "  49666,\n",
       "  43100,\n",
       "  33876,\n",
       "  26686,\n",
       "  22402,\n",
       "  18358,\n",
       "  15518,\n",
       "  13600,\n",
       "  12128,\n",
       "  9480,\n",
       "  7458,\n",
       "  5088,\n",
       "  4726,\n",
       "  3696,\n",
       "  3362,\n",
       "  3396,\n",
       "  2484,\n",
       "  1988,\n",
       "  1490,\n",
       "  984,\n",
       "  734,\n",
       "  600,\n",
       "  456,\n",
       "  482,\n",
       "  378,\n",
       "  362,\n",
       "  168,\n",
       "  124,\n",
       "  94,\n",
       "  88,\n",
       "  52,\n",
       "  44,\n",
       "  40,\n",
       "  18,\n",
       "  16,\n",
       "  8,\n",
       "  6,\n",
       "  2,\n",
       "  0,\n",
       "  0,\n",
       "  0,\n",
       "  0,\n",
       "  0,\n",
       "  0,\n",
       "  0],\n",
       " 'colors_dic': ['#FFFFFF99', 'C7', 'C0', 'C3', 'C1'],\n",
       " 'radius_dic': [0.46, 0.77, 0.77, 0.77, 0.77],\n",
       " 'with_h': True}"
      ]
     },
     "execution_count": 9,
     "metadata": {},
     "output_type": "execute_result"
    }
   ],
   "source": [
    "dataloaders.dataset_info"
   ]
  }
 ],
 "metadata": {
  "kernelspec": {
   "display_name": "rate_matching",
   "language": "python",
   "name": "python3"
  },
  "language_info": {
   "codemirror_mode": {
    "name": "ipython",
    "version": 3
   },
   "file_extension": ".py",
   "mimetype": "text/x-python",
   "name": "python",
   "nbconvert_exporter": "python",
   "pygments_lexer": "ipython3",
   "version": "3.10.9"
  }
 },
 "nbformat": 4,
 "nbformat_minor": 2
}
