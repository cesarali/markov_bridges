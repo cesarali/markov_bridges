{
 "cells": [
  {
   "cell_type": "code",
   "execution_count": 15,
   "metadata": {},
   "outputs": [],
   "source": [
    "import os\n",
    "import torch\n",
    "from pathlib import Path\n",
    "from dataclasses import asdict\n",
    "import markov_bridges.data.qm9.utils as qm9utils\n",
    "from markov_bridges.data.dataloaders_utils import get_dataloaders\n",
    "from markov_bridges.configs.config_classes.data.molecules_configs import QM9Config\n",
    "from markov_bridges.configs.experiments_configs.mixed.edmg_experiments import get_edmg_experiment"
   ]
  },
  {
   "cell_type": "code",
   "execution_count": 2,
   "metadata": {},
   "outputs": [],
   "source": [
    "config = get_edmg_experiment()\n",
    "config.data = QM9Config(num_pts_train=1000,\n",
    "                        num_pts_test=200,\n",
    "                        num_pts_valid=200)"
   ]
  },
  {
   "cell_type": "code",
   "execution_count": 3,
   "metadata": {},
   "outputs": [
    {
     "name": "stdout",
     "output_type": "stream",
     "text": [
      "Conditioning on ['H_thermo', 'homo']\n"
     ]
    }
   ],
   "source": [
    "dataloaders = get_dataloaders(config)"
   ]
  },
  {
   "cell_type": "code",
   "execution_count": 4,
   "metadata": {},
   "outputs": [],
   "source": [
    "databatch = dataloaders.get_databatch()\n",
    "#self.dtype = torch.float32"
   ]
  },
  {
   "cell_type": "code",
   "execution_count": 21,
   "metadata": {},
   "outputs": [
    {
     "data": {
      "text/plain": [
       "'num_atoms-charges'"
      ]
     },
     "execution_count": 21,
     "metadata": {},
     "output_type": "execute_result"
    }
   ],
   "source": []
  },
  {
   "cell_type": "code",
   "execution_count": 17,
   "metadata": {},
   "outputs": [],
   "source": [
    "context = qm9utils.prepare_context(config.noising_model.conditioning, \n",
    "                                   databatch, \n",
    "                                   dataloaders.property_norms)"
   ]
  }
 ],
 "metadata": {
  "kernelspec": {
   "display_name": "rate_matching",
   "language": "python",
   "name": "python3"
  },
  "language_info": {
   "codemirror_mode": {
    "name": "ipython",
    "version": 3
   },
   "file_extension": ".py",
   "mimetype": "text/x-python",
   "name": "python",
   "nbconvert_exporter": "python",
   "pygments_lexer": "ipython3",
   "version": "3.10.9"
  }
 },
 "nbformat": 4,
 "nbformat_minor": 2
}
