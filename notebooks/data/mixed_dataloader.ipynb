{
 "cells": [
  {
   "cell_type": "code",
   "execution_count": 1,
   "metadata": {},
   "outputs": [],
   "source": [
    "import math\n",
    "\n",
    "import matplotlib.pyplot as plt\n",
    "import numpy as np\n",
    "import torch\n",
    "import torchdyn\n",
    "\n",
    "from torchdyn.datasets import generate_moons\n",
    "from utils import sample_8gaussians,sample_moons"
   ]
  },
  {
   "cell_type": "code",
   "execution_count": 7,
   "metadata": {},
   "outputs": [
    {
     "data": {
      "text/plain": [
       "(tensor([[ 1.0469,  0.0469],\n",
       "         [ 0.8699,  0.8699],\n",
       "         [ 0.0194,  1.0194],\n",
       "         [-0.6167,  0.7975],\n",
       "         [-0.9594,  0.0406],\n",
       "         [ 0.0766,  0.5766],\n",
       "         [ 0.3884, -0.1116],\n",
       "         [ 1.0736, -0.4264],\n",
       "         [ 1.8040, -0.1102],\n",
       "         [ 2.1741,  0.6741]]),\n",
       " tensor([0, 0, 0, 0, 0, 1, 1, 1, 1, 1]))"
      ]
     },
     "execution_count": 7,
     "metadata": {},
     "output_type": "execute_result"
    }
   ],
   "source": [
    "generate_moons(10, noise=0.2)"
   ]
  },
  {
   "cell_type": "code",
   "execution_count": 5,
   "metadata": {},
   "outputs": [],
   "source": [
    "batch_size = 32\n",
    "x0 = sample_8gaussians(batch_size)\n",
    "x1 = sample_moons(batch_size)"
   ]
  },
  {
   "cell_type": "code",
   "execution_count": null,
   "metadata": {},
   "outputs": [],
   "source": []
  }
 ],
 "metadata": {
  "kernelspec": {
   "display_name": "rate_matching",
   "language": "python",
   "name": "python3"
  },
  "language_info": {
   "codemirror_mode": {
    "name": "ipython",
    "version": 3
   },
   "file_extension": ".py",
   "mimetype": "text/x-python",
   "name": "python",
   "nbconvert_exporter": "python",
   "pygments_lexer": "ipython3",
   "version": "3.10.9"
  }
 },
 "nbformat": 4,
 "nbformat_minor": 2
}
