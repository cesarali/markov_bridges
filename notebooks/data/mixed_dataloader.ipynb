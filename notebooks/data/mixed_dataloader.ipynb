{
 "cells": [
  {
   "cell_type": "code",
   "execution_count": 28,
   "metadata": {},
   "outputs": [],
   "source": [
    "import os\n",
    "import torch\n",
    "import os\n",
    "import math\n",
    "import torch\n",
    "import torchdyn\n",
    "import numpy as np\n",
    "import matplotlib.pyplot as plt\n",
    "\n",
    "from typing import List\n",
    "from dataclasses import dataclass,asdict,field\n",
    "\n",
    "\n",
    "from markov_bridges.data.abstract_dataloader import (\n",
    "    MarkovBridgeDataloader,\n",
    "    MarkovBridgeDataset,\n",
    "    MarkovBridgeDataClass\n",
    ")\n",
    "\n",
    "from markov_bridges.data.music_dataloaders import (\n",
    "    get_data\n",
    ")\n",
    "\n",
    "from markov_bridges.configs.config_classes.data.basics_configs import MarkovBridgeDataConfig\n",
    "\n",
    "from torch.distributions import Categorical\n",
    "from markov_bridges.configs.config_classes.data.music_configs import LakhPianoRollConfig"
   ]
  },
  {
   "cell_type": "code",
   "execution_count": 21,
   "metadata": {},
   "outputs": [],
   "source": [
    "def generate_noise_sample(dataset,data_config:MarkovBridgeDataConfig):\n",
    "    dataset_size = dataset.size(0)\n",
    "    generation_dimension = data_config.dimensions - data_config.context_dimension\n",
    "    if data_config.source_discrete == \"uniform\":\n",
    "        vocab_size = data_config.vocab_size\n",
    "        NoiseDistribution = Categorical(torch.full((vocab_size,),1./vocab_size))\n",
    "        noise_sample = NoiseDistribution.sample((dataset_size,generation_dimension))\n",
    "        return noise_sample\n",
    "    else:\n",
    "        raise Exception(\"Source not Implemented\")"
   ]
  },
  {
   "cell_type": "code",
   "execution_count": 2,
   "metadata": {},
   "outputs": [],
   "source": [
    "data_config = LakhPianoRollConfig(context_discrete=True)\n",
    "train_data,  test_data, descramble_key = get_data(data_config)"
   ]
  },
  {
   "cell_type": "code",
   "execution_count": 23,
   "metadata": {},
   "outputs": [],
   "source": [
    "test_source = generate_noise_sample(test_data,data_config)"
   ]
  },
  {
   "cell_type": "code",
   "execution_count": 25,
   "metadata": {},
   "outputs": [
    {
     "data": {
      "text/plain": [
       "torch.Size([6000, 224])"
      ]
     },
     "execution_count": 25,
     "metadata": {},
     "output_type": "execute_result"
    }
   ],
   "source": [
    "train_source.shape"
   ]
  },
  {
   "cell_type": "code",
   "execution_count": 29,
   "metadata": {},
   "outputs": [],
   "source": [
    "dataclass = MarkovBridgeDataClass()"
   ]
  },
  {
   "cell_type": "code",
   "execution_count": 31,
   "metadata": {},
   "outputs": [],
   "source": [
    "dataset = train_data\n",
    "\n",
    "def obtain_data_divisions(dataset,data_config:MarkovBridgeDataConfig)->MarkovBridgeDataClass:\n",
    "    \"\"\"\n",
    "    \"\"\"\n",
    "    # source\n",
    "    source_discrete = generate_noise_sample(train_data,data_config)\n",
    "\n",
    "    # context\n",
    "    if data_config.context_dimension > 0:\n",
    "        context_discrete = dataset[:,:data_config.context_dimension]\n",
    "    else:\n",
    "        context_discrete = None\n",
    "\n",
    "    # target\n",
    "    target_discrete = dataset[:,data_config.context_dimension:]\n",
    "    dataclass.target_continuous = None\n",
    "\n",
    "    return MarkovBridgeDataClass(context_discrete=context_discrete,\n",
    "                                 )"
   ]
  },
  {
   "cell_type": "code",
   "execution_count": null,
   "metadata": {},
   "outputs": [],
   "source": [
    "\"\"\"\n",
    "num_samples = 100\n",
    "tensor_size = 10\n",
    "\n",
    "dataset = MarkovBridgeDataset(num_samples, tensor_size)\n",
    "dataloader = DataLoader(dataset, batch_size=4, shuffle=True)        \n",
    "\"\"\""
   ]
  },
  {
   "cell_type": "code",
   "execution_count": 32,
   "metadata": {},
   "outputs": [],
   "source": [
    "#databatch = next(dataloader.__iter__())"
   ]
  },
  {
   "cell_type": "code",
   "execution_count": 33,
   "metadata": {},
   "outputs": [],
   "source": [
    "# databatch.target_node"
   ]
  },
  {
   "cell_type": "markdown",
   "metadata": {},
   "source": [
    "# Defining Dataconfigs"
   ]
  },
  {
   "cell_type": "code",
   "execution_count": 35,
   "metadata": {},
   "outputs": [],
   "source": [
    "@dataclass\n",
    "class  AbstractDataloaderConfig:\n",
    "    dimensions: int = 4\n",
    "    vocab_size: int = 2"
   ]
  },
  {
   "cell_type": "markdown",
   "metadata": {},
   "source": [
    "## Music"
   ]
  },
  {
   "cell_type": "code",
   "execution_count": 36,
   "metadata": {},
   "outputs": [],
   "source": [
    "from markov_bridges import data_path\n",
    "from typing import List\n",
    "\n",
    "from dataclasses import asdict,field\n",
    "\n",
    "from markov_bridges.data.music_dataloaders import (\n",
    "    get_data\n",
    ")\n",
    "\n",
    "@dataclass\n",
    "class LakhPianoRollConfig(MarkovBridgeDataConfig):\n",
    "    name:str = \"LakhPianoRoll\"\n",
    "    dataset_name:str = \"lakh_roll\" # emnist, fashion, mnist\n",
    "\n",
    "    batch_size: int= 32\n",
    "    data_dir:str = str(data_path / \"raw\")\n",
    "\n",
    "    dimensions: int = 256\n",
    "    vocab_size: int = 129\n",
    "    conditional_dimension:int = 32\n",
    "    generation_dimension:int = 224\n",
    "\n",
    "    total_data_size: int = 6973\n",
    "    training_size: int = 6000\n",
    "    test_size: int = 973\n",
    "    test_split: float = None\n",
    "\n",
    "    temporal_net_expected_shape : List[int] = None\n",
    "    data_min_max: List[float] = field(default_factory=lambda:[0.,128.])\n",
    "\n",
    "    def __post_init__(self):\n",
    "        self.dimensions, self.temporal_net_expected_shape = self.dimensions, [self.dimensions]\n",
    "        self.number_of_labels = None\n",
    "        self.test_split = self.test_size/float(self.total_data_size)\n",
    "        self.generation_dimension = self.dimensions - self.conditional_dimension"
   ]
  },
  {
   "cell_type": "code",
   "execution_count": 37,
   "metadata": {},
   "outputs": [
    {
     "data": {
      "text/plain": [
       "LakhPianoRollConfig(context_discrete=False, context_continuous=False, target_discrete=True, target_continuous=False, source_discrete='uniform', source_continuous=None, name='LakhPianoRoll', dataset_name='lakh_roll', dimensions=256, vocab_size=129, max_training_size=None, max_test_size=None, batch_size=32, data_dir='C:\\\\Users\\\\cesar\\\\Desktop\\\\Projects\\\\DiffusiveGenerativeModelling\\\\OurCodes\\\\markov_bridges\\\\data\\\\raw', conditional_dimension=32, generation_dimension=224, total_data_size=6973, training_size=6000, test_size=973, test_split=0.13953821884411302, temporal_net_expected_shape=[256], data_min_max=[0.0, 128.0])"
      ]
     },
     "execution_count": 37,
     "metadata": {},
     "output_type": "execute_result"
    }
   ],
   "source": [
    "data_config = LakhPianoRollConfig()\n",
    "data_config"
   ]
  },
  {
   "cell_type": "code",
   "execution_count": 38,
   "metadata": {},
   "outputs": [],
   "source": [
    "train_data,  test_data, descramble_key = get_data(data_config)"
   ]
  },
  {
   "cell_type": "code",
   "execution_count": 40,
   "metadata": {},
   "outputs": [
    {
     "data": {
      "text/plain": [
       "torch.Size([973, 256])"
      ]
     },
     "execution_count": 40,
     "metadata": {},
     "output_type": "execute_result"
    }
   ],
   "source": [
    "test_data.shape"
   ]
  },
  {
   "cell_type": "markdown",
   "metadata": {},
   "source": [
    "## Discrete"
   ]
  },
  {
   "cell_type": "code",
   "execution_count": 1,
   "metadata": {},
   "outputs": [
    {
     "ename": "NameError",
     "evalue": "name 'dataclass' is not defined",
     "output_type": "error",
     "traceback": [
      "\u001b[1;31m---------------------------------------------------------------------------\u001b[0m",
      "\u001b[1;31mNameError\u001b[0m                                 Traceback (most recent call last)",
      "Cell \u001b[1;32mIn[1], line 1\u001b[0m\n\u001b[1;32m----> 1\u001b[0m \u001b[38;5;129m@dataclass\u001b[39m\n\u001b[0;32m      2\u001b[0m \u001b[38;5;28;01mclass\u001b[39;00m  \u001b[38;5;21;01mAbstractDataloaderConfig\u001b[39;00m:\n\u001b[0;32m      3\u001b[0m     dimensions: \u001b[38;5;28mint\u001b[39m \u001b[38;5;241m=\u001b[39m \u001b[38;5;241m4\u001b[39m\n\u001b[0;32m      4\u001b[0m     vocab_size: \u001b[38;5;28mint\u001b[39m \u001b[38;5;241m=\u001b[39m \u001b[38;5;241m2\u001b[39m\n",
      "\u001b[1;31mNameError\u001b[0m: name 'dataclass' is not defined"
     ]
    }
   ],
   "source": [
    "\n",
    "\n",
    "@dataclass\n",
    "class  AbstractDataloaderConfig:\n",
    "    dimensions: int = 4\n",
    "    vocab_size: int = 2\n",
    "    \n",
    "\n",
    "\n",
    "@dataclass\n",
    "class CategoricalDataloaderConfig(AbstractDataloaderConfig):\n",
    "    name:str = \"CategoricalDataloader\"\n",
    "    dataset_name:str = \"categorical_dirichlet\" # categorical_dirichlet\n",
    "    data_dir:str = image_data_path\n",
    "\n",
    "    dirichlet_alpha:float = None\n",
    "    categorical_probability:float = None\n",
    "\n",
    "    dimensions: int = 4\n",
    "    vocab_size: int = 2\n",
    "\n",
    "    batch_size: int = 23\n",
    "    test_split: float = 0.2\n",
    "    total_data_size: int = 60000\n",
    "    \n",
    "    temporal_net_expected_shape : List[int] = None\n",
    "    data_min_max: List[float] = field(default_factory=lambda:[0.,1.])\n",
    "\n",
    "    def __post_init__(self):\n",
    "        self.temporal_net_expected_shape =  [self.dimensions]\n",
    "\n"
   ]
  },
  {
   "cell_type": "markdown",
   "metadata": {},
   "source": [
    "# MOONS"
   ]
  },
  {
   "cell_type": "code",
   "execution_count": null,
   "metadata": {},
   "outputs": [],
   "source": [
    "from torchdyn.datasets import generate_moons\n",
    "from utils import sample_8gaussians,sample_moons"
   ]
  },
  {
   "cell_type": "code",
   "execution_count": 7,
   "metadata": {},
   "outputs": [
    {
     "data": {
      "text/plain": [
       "(tensor([[ 1.0469,  0.0469],\n",
       "         [ 0.8699,  0.8699],\n",
       "         [ 0.0194,  1.0194],\n",
       "         [-0.6167,  0.7975],\n",
       "         [-0.9594,  0.0406],\n",
       "         [ 0.0766,  0.5766],\n",
       "         [ 0.3884, -0.1116],\n",
       "         [ 1.0736, -0.4264],\n",
       "         [ 1.8040, -0.1102],\n",
       "         [ 2.1741,  0.6741]]),\n",
       " tensor([0, 0, 0, 0, 0, 1, 1, 1, 1, 1]))"
      ]
     },
     "execution_count": 7,
     "metadata": {},
     "output_type": "execute_result"
    }
   ],
   "source": [
    "generate_moons(10, noise=0.2)"
   ]
  },
  {
   "cell_type": "code",
   "execution_count": 5,
   "metadata": {},
   "outputs": [],
   "source": [
    "batch_size = 32\n",
    "x0 = sample_8gaussians(batch_size)\n",
    "x1 = sample_moons(batch_size)"
   ]
  }
 ],
 "metadata": {
  "kernelspec": {
   "display_name": "rate_matching",
   "language": "python",
   "name": "python3"
  },
  "language_info": {
   "codemirror_mode": {
    "name": "ipython",
    "version": 3
   },
   "file_extension": ".py",
   "mimetype": "text/x-python",
   "name": "python",
   "nbconvert_exporter": "python",
   "pygments_lexer": "ipython3",
   "version": "3.10.9"
  }
 },
 "nbformat": 4,
 "nbformat_minor": 2
}
